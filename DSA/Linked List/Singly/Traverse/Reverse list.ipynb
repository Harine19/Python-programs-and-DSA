{
 "cells": [
  {
   "cell_type": "code",
   "execution_count": 2,
   "id": "0789a6bd",
   "metadata": {},
   "outputs": [
    {
     "name": "stdout",
     "output_type": "stream",
     "text": [
      "Enter element: 3\n",
      "continue? y-yes n-no: y\n",
      "Enter element: 7\n",
      "continue? y-yes n-no: y\n",
      "Enter element: 9\n",
      "continue? y-yes n-no: n\n",
      "\n",
      "List before reversing: \n",
      "9\n",
      "7\n",
      "3\n",
      "\n",
      "List after reversing: \n",
      "3\n",
      "7\n",
      "9\n"
     ]
    }
   ],
   "source": [
    "class Node: \n",
    "    def __init__(self, data): \n",
    "        self.data = data \n",
    "        self.next = None\n",
    "\n",
    "class LinkedList: \n",
    "    def __init__(self): \n",
    "        self.head = None\n",
    "\n",
    "    def reverse(self): \n",
    "        prev = None\n",
    "        current = self.head \n",
    "        while(current is not None): \n",
    "            next = current.next\n",
    "            current.next = prev \n",
    "            prev = current \n",
    "            current = next\n",
    "        self.head = prev \n",
    "        \n",
    "    def push(self, new_data): \n",
    "        new_node = Node(new_data) \n",
    "        new_node.next = self.head \n",
    "        self.head = new_node \n",
    "  \n",
    "    def printList(self): \n",
    "        temp = self.head \n",
    "        while(temp): \n",
    "            print (temp.data) \n",
    "            temp = temp.next\n",
    "            \n",
    "#DRIVER CODE    \n",
    "llist = LinkedList()\n",
    "x=\"y\"\n",
    "while x==\"y\":\n",
    "    llist.push(int(input(\"Enter element: \")))\n",
    "    x=input(\"continue? y-yes n-no: \")\n",
    "    if x==\"n\":\n",
    "        print(\"\\nList before reversing: \")\n",
    "        llist.printList()\n",
    "        llist.reverse()\n",
    "        print(\"\\nList after reversing: \")\n",
    "        llist.printList()    "
   ]
  },
  {
   "cell_type": "code",
   "execution_count": null,
   "id": "2904b6dd",
   "metadata": {},
   "outputs": [],
   "source": []
  }
 ],
 "metadata": {
  "kernelspec": {
   "display_name": "Python 3 (ipykernel)",
   "language": "python",
   "name": "python3"
  },
  "language_info": {
   "codemirror_mode": {
    "name": "ipython",
    "version": 3
   },
   "file_extension": ".py",
   "mimetype": "text/x-python",
   "name": "python",
   "nbconvert_exporter": "python",
   "pygments_lexer": "ipython3",
   "version": "3.10.5"
  }
 },
 "nbformat": 4,
 "nbformat_minor": 5
}
