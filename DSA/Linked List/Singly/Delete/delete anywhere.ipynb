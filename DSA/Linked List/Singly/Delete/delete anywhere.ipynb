{
 "cells": [
  {
   "cell_type": "code",
   "execution_count": 1,
   "id": "caa365b3",
   "metadata": {},
   "outputs": [
    {
     "name": "stdout",
     "output_type": "stream",
     "text": [
      "Created Linked List: \n",
      " 2   3   1   7  \n",
      "Enter position: 3\n",
      "\n",
      "Linked List after Deletion: \n",
      " 2   3   7  "
     ]
    }
   ],
   "source": [
    "class Node:\n",
    "    def __init__(self, data):\n",
    "        self.data = data\n",
    "        self.next = None\n",
    "\n",
    "class LinkedList:\n",
    "    def __init__(self):\n",
    "        self.head = None\n",
    "    def push(self, new_data):\n",
    "        new_node = Node(new_data)\n",
    "        new_node.next = self.head\n",
    "        self.head = new_node\n",
    "    def deleteNode(self, position):\n",
    "        if self.head is None:\n",
    "            return\n",
    "        if position == 0:\n",
    "            self.head = self.head.next\n",
    "            return self.head\n",
    "        index = 0\n",
    "        current = self.head\n",
    "        prev = self.head\n",
    "        temp = self.head\n",
    "        while current is not None:\n",
    "            if index == position:\n",
    "                temp = current.next\n",
    "                break\n",
    "            prev = current\n",
    "            current = current.next\n",
    "            index += 1\n",
    "        prev.next = temp\n",
    "        return prev\n",
    "    \n",
    "    def printList(self):\n",
    "        temp = self.head\n",
    "        while(temp):\n",
    "            print (\" %d \" % (temp.data),end=\" \")\n",
    "            temp = temp.next\n",
    "\n",
    "llist = LinkedList()\n",
    "llist.push(7)\n",
    "llist.push(1)\n",
    "llist.push(3)\n",
    "llist.push(2)\n",
    "\n",
    "print (\"Created Linked List: \")\n",
    "llist.printList()\n",
    "x=int(input(\"\\nEnter position: \"))\n",
    "llist.deleteNode(x-1)\n",
    "print (\"\\nLinked List after Deletion: \")\n",
    "llist.printList()"
   ]
  },
  {
   "cell_type": "code",
   "execution_count": null,
   "id": "a3a49e95",
   "metadata": {},
   "outputs": [],
   "source": []
  }
 ],
 "metadata": {
  "kernelspec": {
   "display_name": "Python 3 (ipykernel)",
   "language": "python",
   "name": "python3"
  },
  "language_info": {
   "codemirror_mode": {
    "name": "ipython",
    "version": 3
   },
   "file_extension": ".py",
   "mimetype": "text/x-python",
   "name": "python",
   "nbconvert_exporter": "python",
   "pygments_lexer": "ipython3",
   "version": "3.10.5"
  }
 },
 "nbformat": 4,
 "nbformat_minor": 5
}
