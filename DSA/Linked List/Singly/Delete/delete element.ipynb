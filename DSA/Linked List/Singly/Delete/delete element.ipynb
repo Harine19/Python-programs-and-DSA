{
 "cells": [
  {
   "cell_type": "code",
   "execution_count": 15,
   "id": "90d7472a",
   "metadata": {},
   "outputs": [
    {
     "name": "stdout",
     "output_type": "stream",
     "text": [
      "Created Linked List: \n",
      " 2   3   1   7  \n",
      "Enter element to delete: 22\n",
      "Element not found!\n",
      "\n",
      "Enter element to delete: 2\n",
      "\n",
      "Linked List after Deletion is: \n",
      " 3   1   7  "
     ]
    }
   ],
   "source": [
    "class Node:\n",
    "    def __init__(self, data):\n",
    "        self.data = data\n",
    "        self.next = None\n",
    "\n",
    "class LinkedList:\n",
    "    def __init__(self):\n",
    "        self.head = None\n",
    "    \n",
    "    def push(self, new_data): #INSERT AT BEGINNING\n",
    "        new_node = Node(new_data)\n",
    "        new_node.next = self.head\n",
    "        self.head = new_node\n",
    "    \n",
    "    def deleteNode(self, key): #DELETING KEY\n",
    "        temp = self.head\n",
    "        if (temp is not None):\n",
    "            if (temp.data == key):\n",
    "                self.head = temp.next\n",
    "                temp = None\n",
    "                return\n",
    "        while(temp is not None):\n",
    "            if temp.data == key:\n",
    "                break\n",
    "            prev = temp\n",
    "            temp = temp.next\n",
    "        if(temp == None):\n",
    "            return -1 \n",
    "        prev.next = temp.next\n",
    "        temp = None\n",
    "\n",
    "    def printList(self):\n",
    "        temp = self.head\n",
    "        while(temp):\n",
    "            print (\" %d \" %(temp.data),end=\" \"),\n",
    "            temp = temp.next\n",
    "\n",
    "# DRIVER CODE\n",
    "llist = LinkedList()\n",
    "llist.push(7)\n",
    "llist.push(1)\n",
    "llist.push(3)\n",
    "llist.push(2)\n",
    "\n",
    "print (\"Created Linked List: \")\n",
    "llist.printList()\n",
    "while True:\n",
    "    if llist.deleteNode(int(input(\"\\nEnter element to delete: \")))!=-1:\n",
    "        print (\"\\nLinked List after Deletion is: \")\n",
    "        llist.printList()\n",
    "        break\n",
    "    else:\n",
    "        print(\"Element not found!\")"
   ]
  }
 ],
 "metadata": {
  "kernelspec": {
   "display_name": "Python 3 (ipykernel)",
   "language": "python",
   "name": "python3"
  },
  "language_info": {
   "codemirror_mode": {
    "name": "ipython",
    "version": 3
   },
   "file_extension": ".py",
   "mimetype": "text/x-python",
   "name": "python",
   "nbconvert_exporter": "python",
   "pygments_lexer": "ipython3",
   "version": "3.10.5"
  }
 },
 "nbformat": 4,
 "nbformat_minor": 5
}
