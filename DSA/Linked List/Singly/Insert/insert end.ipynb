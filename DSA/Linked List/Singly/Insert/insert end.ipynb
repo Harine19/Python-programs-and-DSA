{
 "cells": [
  {
   "cell_type": "code",
   "execution_count": 4,
   "id": "d9267fe6",
   "metadata": {},
   "outputs": [
    {
     "name": "stdout",
     "output_type": "stream",
     "text": [
      "Enter element: 9\n",
      "continue? y-yes n-no: n\n",
      "The list contains: 9 \n",
      "Enter element to insert at end: 99\n",
      "The list contains: 9 99 \n"
     ]
    }
   ],
   "source": [
    "#node structure\n",
    "class Node:\n",
    "    def __init__(self, data):\n",
    "        self.data = data\n",
    "        self.next = None\n",
    "\n",
    "#class Linked List\n",
    "class LinkedList:\n",
    "    def __init__(self):\n",
    "        self.head = None\n",
    "    \n",
    "    def length(self): #LENGTH\n",
    "        temp = self.head\n",
    "        count=0\n",
    "        while temp!=None:\n",
    "            count=count+1\n",
    "            temp = temp.next\n",
    "        return count\n",
    "    \n",
    "    #INSERT AT BEGINNING\n",
    "    def push_at(self, newElement):     \n",
    "        newNode = Node(newElement) \n",
    "        newNode.next = self.head\n",
    "        self.head = newNode\n",
    "        \n",
    "    def push_end(self, newElement):  \n",
    "        newNode = Node(newElement)    \n",
    "        temp = self.head\n",
    "        for i in range(1,MyList.length()):\n",
    "            if(temp != None):\n",
    "                temp = temp.next   \n",
    "        if(temp != None):\n",
    "            newNode.next = temp.next\n",
    "            temp.next = newNode  \n",
    "        else:\n",
    "            print(\"\\nThe previous node is null.\")\n",
    "    \n",
    "    def PrintList(self):\n",
    "        temp = self.head\n",
    "        if(temp != None):\n",
    "            print(\"The list contains:\", end=\" \")\n",
    "            while (temp != None):\n",
    "                print(temp.data, end=\" \")\n",
    "                temp = temp.next\n",
    "            print()\n",
    "        else:\n",
    "            print(\"The list is empty.\")\n",
    "\n",
    "#DRIVER CODE    \n",
    "MyList = LinkedList()\n",
    "flag=\"y\"\n",
    "while flag==\"y\":\n",
    "    MyList.push_at(int(input(\"Enter element: \")))\n",
    "    flag=input(\"continue? y-yes n-no: \")\n",
    "    if flag==\"n\":\n",
    "        MyList.PrintList()\n",
    "while flag==\"n\":\n",
    "    MyList.push_end(int(input(\"Enter element to insert at end: \")))\n",
    "    MyList.PrintList()\n",
    "    flag=\"y\""
   ]
  },
  {
   "cell_type": "code",
   "execution_count": null,
   "id": "14ecd243",
   "metadata": {},
   "outputs": [],
   "source": []
  }
 ],
 "metadata": {
  "kernelspec": {
   "display_name": "Python 3 (ipykernel)",
   "language": "python",
   "name": "python3"
  },
  "language_info": {
   "codemirror_mode": {
    "name": "ipython",
    "version": 3
   },
   "file_extension": ".py",
   "mimetype": "text/x-python",
   "name": "python",
   "nbconvert_exporter": "python",
   "pygments_lexer": "ipython3",
   "version": "3.10.5"
  }
 },
 "nbformat": 4,
 "nbformat_minor": 5
}
