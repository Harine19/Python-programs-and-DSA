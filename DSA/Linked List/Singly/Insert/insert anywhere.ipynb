{
 "cells": [
  {
   "cell_type": "code",
   "execution_count": 8,
   "id": "ba5890ec",
   "metadata": {},
   "outputs": [
    {
     "name": "stdout",
     "output_type": "stream",
     "text": [
      "pushed!\n",
      "pushed!\n",
      "pushed!\n",
      "pushed!\n",
      "pushed!\n",
      "Enter element: 1\n",
      "Enter position: 4\n",
      "continue? y-yes n-no: n\n",
      "The list contains: 95 94 93 1 92 91 \n"
     ]
    }
   ],
   "source": [
    "class Node:\n",
    "    def __init__(self, data):\n",
    "        self.data = data\n",
    "        self.next = None\n",
    "\n",
    "class LinkedList:\n",
    "    def __init__(self):\n",
    "        self.head = None\n",
    "        \n",
    "    def push_beg(self, newElement):     \n",
    "        newNode = Node(newElement) \n",
    "        newNode.next = self.head\n",
    "        self.head = newNode\n",
    "        \n",
    "    def push_at(self, newElement, position):     \n",
    "        newNode = Node(newElement) \n",
    "        if(position < 1):\n",
    "            print(\"\\nposition should be >= 1.\")\n",
    "        elif (position == 1):\n",
    "            newNode.next = self.head\n",
    "            self.head = newNode\n",
    "        else:    \n",
    "            temp = self.head\n",
    "            for i in range(1, position-1):\n",
    "                if(temp != None):\n",
    "                    temp = temp.next   \n",
    "            if(temp != None):\n",
    "                newNode.next = temp.next\n",
    "                temp.next = newNode  \n",
    "            else:\n",
    "                print(\"\\nThe previous node is null.\")\n",
    "    \n",
    "    def PrintList(self):\n",
    "        temp = self.head\n",
    "        if(temp != None):\n",
    "            print(\"The list contains:\", end=\" \")\n",
    "            while (temp != None):\n",
    "                print(temp.data, end=\" \")\n",
    "                temp = temp.next\n",
    "            print()\n",
    "        else:\n",
    "            print(\"The list is empty.\")\n",
    "\n",
    "#DRIVER CODE    \n",
    "MyList = LinkedList()\n",
    "MyList.push_beg(91)\n",
    "MyList.push_beg(92)\n",
    "MyList.push_beg(93)\n",
    "MyList.push_beg(94)\n",
    "MyList.push_beg(95)\n",
    "x=\"y\"\n",
    "while x==\"y\":\n",
    "    MyList.push_at(int(input(\"Enter element: \")),int(input(\"Enter position: \")))\n",
    "    x=input(\"continue? y-yes n-no: \")\n",
    "    if x==\"n\":\n",
    "        MyList.PrintList()"
   ]
  },
  {
   "cell_type": "code",
   "execution_count": null,
   "id": "4cc64d44",
   "metadata": {},
   "outputs": [],
   "source": []
  }
 ],
 "metadata": {
  "kernelspec": {
   "display_name": "Python 3 (ipykernel)",
   "language": "python",
   "name": "python3"
  },
  "language_info": {
   "codemirror_mode": {
    "name": "ipython",
    "version": 3
   },
   "file_extension": ".py",
   "mimetype": "text/x-python",
   "name": "python",
   "nbconvert_exporter": "python",
   "pygments_lexer": "ipython3",
   "version": "3.10.5"
  }
 },
 "nbformat": 4,
 "nbformat_minor": 5
}
