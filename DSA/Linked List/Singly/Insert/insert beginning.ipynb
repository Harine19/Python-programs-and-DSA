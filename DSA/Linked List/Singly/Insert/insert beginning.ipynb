{
 "cells": [
  {
   "cell_type": "code",
   "execution_count": 5,
   "id": "71e2cd2f",
   "metadata": {},
   "outputs": [
    {
     "name": "stdout",
     "output_type": "stream",
     "text": [
      "Enter element: 3\n",
      "continue? y-yes n-no: y\n",
      "Enter element: 2\n",
      "continue? y-yes n-no: y\n",
      "Enter element: 1\n",
      "continue? y-yes n-no: n\n",
      "The list contains: 1 2 3 \n"
     ]
    }
   ],
   "source": [
    "#node structure\n",
    "class Node:\n",
    "    def __init__(self, data):\n",
    "        self.data = data\n",
    "        self.next = None\n",
    "\n",
    "#class Linked List\n",
    "class LinkedList:\n",
    "    def __init__(self):\n",
    "        self.head = None\n",
    "\n",
    "    #INSERT AT BEGINNING\n",
    "    def push_at(self, newElement):     \n",
    "        newNode = Node(newElement) \n",
    "        newNode.next = self.head\n",
    "        self.head = newNode\n",
    "    \n",
    "    def PrintList(self):\n",
    "        temp = self.head\n",
    "        if(temp != None):\n",
    "            print(\"The list contains:\", end=\" \")\n",
    "            while (temp != None):\n",
    "                print(temp.data, end=\" \")\n",
    "                temp = temp.next\n",
    "            print()\n",
    "        else:\n",
    "            print(\"The list is empty.\")\n",
    "\n",
    "#DRIVER CODE    \n",
    "MyList = LinkedList()\n",
    "x=\"y\"\n",
    "while x==\"y\":\n",
    "    MyList.push_at(int(input(\"Enter element: \")))\n",
    "    x=input(\"continue? y-yes n-no: \")\n",
    "    if x==\"n\":\n",
    "        MyList.PrintList()"
   ]
  },
  {
   "cell_type": "code",
   "execution_count": null,
   "id": "145b2240",
   "metadata": {},
   "outputs": [],
   "source": []
  }
 ],
 "metadata": {
  "kernelspec": {
   "display_name": "Python 3 (ipykernel)",
   "language": "python",
   "name": "python3"
  },
  "language_info": {
   "codemirror_mode": {
    "name": "ipython",
    "version": 3
   },
   "file_extension": ".py",
   "mimetype": "text/x-python",
   "name": "python",
   "nbconvert_exporter": "python",
   "pygments_lexer": "ipython3",
   "version": "3.10.5"
  }
 },
 "nbformat": 4,
 "nbformat_minor": 5
}
