{
 "cells": [
  {
   "cell_type": "code",
   "execution_count": 2,
   "id": "3674a02d",
   "metadata": {},
   "outputs": [
    {
     "name": "stdout",
     "output_type": "stream",
     "text": [
      "The linked list: 4 -3 1 0 9 11 \n",
      "What data item would you like to search for? 99\n",
      "99 was not found.\n"
     ]
    }
   ],
   "source": [
    "class Node:\n",
    "    def __init__(self, data):\n",
    "        self.data = data\n",
    "        self.next = None\n",
    "\n",
    "class LinkedList:\n",
    "    def __init__(self):\n",
    "        self.head = None\n",
    "        self.last_node = None\n",
    " \n",
    "    def append(self, data):\n",
    "        if self.last_node is None:\n",
    "            self.head = Node(data)\n",
    "            self.last_node = self.head\n",
    "        else:\n",
    "            self.last_node.next = Node(data)\n",
    "            self.last_node = self.last_node.next\n",
    " \n",
    "    def display(self):\n",
    "        current = self.head\n",
    "        while current is not None:\n",
    "            print(current.data, end = ' ')\n",
    "            current = current.next\n",
    " \n",
    "    def find_index(self, key):\n",
    "        current = self.head\n",
    "        index = 0\n",
    "        while current:\n",
    "            if current.data == key:\n",
    "                return index\n",
    "            current = current.next\n",
    "            index = index + 1\n",
    "        return -1\n",
    "\n",
    "a_llist = LinkedList()\n",
    "for data in [4, -3, 1, 0, 9, 11]:\n",
    "    a_llist.append(data)\n",
    "print('The linked list: ', end = '')\n",
    "a_llist.display()\n",
    "print()\n",
    " \n",
    "key = int(input('What data item would you like to search for? '))\n",
    "index = a_llist.find_index(key)\n",
    "if index == -1:\n",
    "    print(str(key) + ' was not found.')\n",
    "else:\n",
    "    print(str(key) + ' is at index ' + str(index) + '.')"
   ]
  },
  {
   "cell_type": "code",
   "execution_count": null,
   "id": "abe5bc82",
   "metadata": {},
   "outputs": [],
   "source": []
  }
 ],
 "metadata": {
  "kernelspec": {
   "display_name": "Python 3 (ipykernel)",
   "language": "python",
   "name": "python3"
  },
  "language_info": {
   "codemirror_mode": {
    "name": "ipython",
    "version": 3
   },
   "file_extension": ".py",
   "mimetype": "text/x-python",
   "name": "python",
   "nbconvert_exporter": "python",
   "pygments_lexer": "ipython3",
   "version": "3.10.5"
  }
 },
 "nbformat": 4,
 "nbformat_minor": 5
}
